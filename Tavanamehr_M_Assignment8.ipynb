{
 "cells": [
  {
   "cell_type": "code",
   "execution_count": 57,
   "id": "c5261d03",
   "metadata": {},
   "outputs": [],
   "source": [
    "import pandas as pd\n",
    "import numpy as np\n",
    "import random\n",
    "from mlxtend.frequent_patterns import apriori, association_rules\n",
    "import matplotlib.pyplot as plt\n",
    "#pd.pandas.set_option('display.max_columns', None)\n",
    "#pd.pandas.set_option('display.width', 300)"
   ]
  },
  {
   "cell_type": "code",
   "execution_count": 2,
   "id": "2aca8c61",
   "metadata": {},
   "outputs": [],
   "source": [
    "anime_ = pd.read_csv(\"anime.csv\")"
   ]
  },
  {
   "cell_type": "code",
   "execution_count": 3,
   "id": "343ec777",
   "metadata": {},
   "outputs": [],
   "source": [
    "anime = anime_.copy()"
   ]
  },
  {
   "cell_type": "code",
   "execution_count": 4,
   "id": "8503f288",
   "metadata": {},
   "outputs": [],
   "source": [
    "rating_ = pd.read_csv(\"rating.csv\")\n",
    "rating = rating_.copy()"
   ]
  },
  {
   "cell_type": "code",
   "execution_count": 5,
   "id": "04cd1c58",
   "metadata": {},
   "outputs": [],
   "source": [
    "def general_info (dataframe):\n",
    "    print(15*\"-\",\"Shape\",15*\"-\")\n",
    "    print(dataframe.shape,\"\\n\")\n",
    "    print(15*\"-\",\"Variable Types\",15*\"-\")\n",
    "    print(dataframe.info(),\"\\n\")\n",
    "    print(15*\"-\",\"Statistics\",15*\"-\")\n",
    "    print(dataframe.describe().T,\"\\n\")\n",
    "    print(15*\"-\",\"Null Value\",15*\"-\")\n",
    "    print(dataframe.isnull().sum(),\"\\n\")"
   ]
  },
  {
   "cell_type": "code",
   "execution_count": 6,
   "id": "3e865d03",
   "metadata": {},
   "outputs": [
    {
     "name": "stdout",
     "output_type": "stream",
     "text": [
      "--------------- Shape ---------------\n",
      "(12294, 7) \n",
      "\n",
      "--------------- Variable Types ---------------\n",
      "<class 'pandas.core.frame.DataFrame'>\n",
      "RangeIndex: 12294 entries, 0 to 12293\n",
      "Data columns (total 7 columns):\n",
      " #   Column    Non-Null Count  Dtype  \n",
      "---  ------    --------------  -----  \n",
      " 0   anime_id  12294 non-null  int64  \n",
      " 1   name      12294 non-null  object \n",
      " 2   genre     12232 non-null  object \n",
      " 3   type      12269 non-null  object \n",
      " 4   episodes  12294 non-null  object \n",
      " 5   rating    12064 non-null  float64\n",
      " 6   members   12294 non-null  int64  \n",
      "dtypes: float64(1), int64(2), object(4)\n",
      "memory usage: 672.5+ KB\n",
      "None \n",
      "\n",
      "--------------- Statistics ---------------\n",
      "            count          mean           std   min      25%       50%  \\\n",
      "anime_id  12294.0  14058.221653  11455.294701  1.00  3484.25  10260.50   \n",
      "rating    12064.0      6.473902      1.026746  1.67     5.88      6.57   \n",
      "members   12294.0  18071.338864  54820.676925  5.00   225.00   1550.00   \n",
      "\n",
      "               75%        max  \n",
      "anime_id  24794.50    34527.0  \n",
      "rating        7.18       10.0  \n",
      "members    9437.00  1013917.0   \n",
      "\n",
      "--------------- Null Value ---------------\n",
      "anime_id      0\n",
      "name          0\n",
      "genre        62\n",
      "type         25\n",
      "episodes      0\n",
      "rating      230\n",
      "members       0\n",
      "dtype: int64 \n",
      "\n"
     ]
    }
   ],
   "source": [
    "general_info(anime)"
   ]
  },
  {
   "cell_type": "code",
   "execution_count": 7,
   "id": "f02eab51",
   "metadata": {},
   "outputs": [
    {
     "data": {
      "text/plain": [
       "user_id     1476496\n",
       "anime_id    1476496\n",
       "rating      1476496\n",
       "dtype: int64"
      ]
     },
     "execution_count": 7,
     "metadata": {},
     "output_type": "execute_result"
    }
   ],
   "source": [
    "rating[rating[\"rating\"] == -1].count()"
   ]
  },
  {
   "cell_type": "code",
   "execution_count": 8,
   "id": "5d88ed9f",
   "metadata": {},
   "outputs": [],
   "source": [
    "# merge two datasets which other based on 'anime_id'\n",
    "anime_ratings = rating.merge(anime[[\"anime_id\", \"name\"]], how = \"inner\" , on = \"anime_id\")"
   ]
  },
  {
   "cell_type": "code",
   "execution_count": 9,
   "id": "76542cff",
   "metadata": {},
   "outputs": [
    {
     "data": {
      "text/html": [
       "<div>\n",
       "<style scoped>\n",
       "    .dataframe tbody tr th:only-of-type {\n",
       "        vertical-align: middle;\n",
       "    }\n",
       "\n",
       "    .dataframe tbody tr th {\n",
       "        vertical-align: top;\n",
       "    }\n",
       "\n",
       "    .dataframe thead th {\n",
       "        text-align: right;\n",
       "    }\n",
       "</style>\n",
       "<table border=\"1\" class=\"dataframe\">\n",
       "  <thead>\n",
       "    <tr style=\"text-align: right;\">\n",
       "      <th></th>\n",
       "      <th>user_id</th>\n",
       "      <th>anime_id</th>\n",
       "      <th>rating</th>\n",
       "      <th>name</th>\n",
       "    </tr>\n",
       "  </thead>\n",
       "  <tbody>\n",
       "    <tr>\n",
       "      <th>0</th>\n",
       "      <td>1</td>\n",
       "      <td>20</td>\n",
       "      <td>-1</td>\n",
       "      <td>Naruto</td>\n",
       "    </tr>\n",
       "    <tr>\n",
       "      <th>1</th>\n",
       "      <td>3</td>\n",
       "      <td>20</td>\n",
       "      <td>8</td>\n",
       "      <td>Naruto</td>\n",
       "    </tr>\n",
       "    <tr>\n",
       "      <th>2</th>\n",
       "      <td>5</td>\n",
       "      <td>20</td>\n",
       "      <td>6</td>\n",
       "      <td>Naruto</td>\n",
       "    </tr>\n",
       "    <tr>\n",
       "      <th>3</th>\n",
       "      <td>6</td>\n",
       "      <td>20</td>\n",
       "      <td>-1</td>\n",
       "      <td>Naruto</td>\n",
       "    </tr>\n",
       "    <tr>\n",
       "      <th>4</th>\n",
       "      <td>10</td>\n",
       "      <td>20</td>\n",
       "      <td>-1</td>\n",
       "      <td>Naruto</td>\n",
       "    </tr>\n",
       "  </tbody>\n",
       "</table>\n",
       "</div>"
      ],
      "text/plain": [
       "   user_id  anime_id  rating    name\n",
       "0        1        20      -1  Naruto\n",
       "1        3        20       8  Naruto\n",
       "2        5        20       6  Naruto\n",
       "3        6        20      -1  Naruto\n",
       "4       10        20      -1  Naruto"
      ]
     },
     "execution_count": 9,
     "metadata": {},
     "output_type": "execute_result"
    }
   ],
   "source": [
    "anime_ratings.head()"
   ]
  },
  {
   "cell_type": "code",
   "execution_count": 10,
   "id": "89d237bb",
   "metadata": {},
   "outputs": [],
   "source": [
    "anime_ratings = anime_ratings[anime_ratings[\"rating\"] >= 0]"
   ]
  },
  {
   "cell_type": "code",
   "execution_count": 11,
   "id": "c606254a",
   "metadata": {},
   "outputs": [],
   "source": [
    "anime_df = anime_ratings.pivot_table(index = \"user_id\", columns = \"name\", values = \"rating\")"
   ]
  },
  {
   "cell_type": "code",
   "execution_count": 14,
   "id": "11aaaa4e",
   "metadata": {},
   "outputs": [
    {
     "data": {
      "text/html": [
       "<div>\n",
       "<style scoped>\n",
       "    .dataframe tbody tr th:only-of-type {\n",
       "        vertical-align: middle;\n",
       "    }\n",
       "\n",
       "    .dataframe tbody tr th {\n",
       "        vertical-align: top;\n",
       "    }\n",
       "\n",
       "    .dataframe thead th {\n",
       "        text-align: right;\n",
       "    }\n",
       "</style>\n",
       "<table border=\"1\" class=\"dataframe\">\n",
       "  <thead>\n",
       "    <tr style=\"text-align: right;\">\n",
       "      <th>name</th>\n",
       "      <th>&amp;quot;0&amp;quot;</th>\n",
       "      <th>&amp;quot;Aesop&amp;quot; no Ohanashi yori: Ushi to Kaeru, Yokubatta Inu</th>\n",
       "      <th>&amp;quot;Bungaku Shoujo&amp;quot; Kyou no Oyatsu: Hatsukoi</th>\n",
       "      <th>&amp;quot;Bungaku Shoujo&amp;quot; Memoire</th>\n",
       "      <th>&amp;quot;Bungaku Shoujo&amp;quot; Movie</th>\n",
       "      <th>&amp;quot;Eiji&amp;quot;</th>\n",
       "      <th>.hack//G.U. Returner</th>\n",
       "      <th>.hack//G.U. Trilogy</th>\n",
       "      <th>.hack//G.U. Trilogy: Parody Mode</th>\n",
       "      <th>.hack//Gift</th>\n",
       "      <th>...</th>\n",
       "      <th>lilac (bombs Jun Togawa)</th>\n",
       "      <th>makemagic</th>\n",
       "      <th>s.CRY.ed</th>\n",
       "      <th>vivi</th>\n",
       "      <th>xxxHOLiC</th>\n",
       "      <th>xxxHOLiC Kei</th>\n",
       "      <th>xxxHOLiC Movie: Manatsu no Yoru no Yume</th>\n",
       "      <th>xxxHOLiC Rou</th>\n",
       "      <th>xxxHOLiC Shunmuki</th>\n",
       "      <th>◯</th>\n",
       "    </tr>\n",
       "    <tr>\n",
       "      <th>user_id</th>\n",
       "      <th></th>\n",
       "      <th></th>\n",
       "      <th></th>\n",
       "      <th></th>\n",
       "      <th></th>\n",
       "      <th></th>\n",
       "      <th></th>\n",
       "      <th></th>\n",
       "      <th></th>\n",
       "      <th></th>\n",
       "      <th></th>\n",
       "      <th></th>\n",
       "      <th></th>\n",
       "      <th></th>\n",
       "      <th></th>\n",
       "      <th></th>\n",
       "      <th></th>\n",
       "      <th></th>\n",
       "      <th></th>\n",
       "      <th></th>\n",
       "      <th></th>\n",
       "    </tr>\n",
       "  </thead>\n",
       "  <tbody>\n",
       "    <tr>\n",
       "      <th>1</th>\n",
       "      <td>NaN</td>\n",
       "      <td>NaN</td>\n",
       "      <td>NaN</td>\n",
       "      <td>NaN</td>\n",
       "      <td>NaN</td>\n",
       "      <td>NaN</td>\n",
       "      <td>NaN</td>\n",
       "      <td>NaN</td>\n",
       "      <td>NaN</td>\n",
       "      <td>NaN</td>\n",
       "      <td>...</td>\n",
       "      <td>NaN</td>\n",
       "      <td>NaN</td>\n",
       "      <td>NaN</td>\n",
       "      <td>NaN</td>\n",
       "      <td>NaN</td>\n",
       "      <td>NaN</td>\n",
       "      <td>NaN</td>\n",
       "      <td>NaN</td>\n",
       "      <td>NaN</td>\n",
       "      <td>NaN</td>\n",
       "    </tr>\n",
       "    <tr>\n",
       "      <th>2</th>\n",
       "      <td>NaN</td>\n",
       "      <td>NaN</td>\n",
       "      <td>NaN</td>\n",
       "      <td>NaN</td>\n",
       "      <td>NaN</td>\n",
       "      <td>NaN</td>\n",
       "      <td>NaN</td>\n",
       "      <td>NaN</td>\n",
       "      <td>NaN</td>\n",
       "      <td>NaN</td>\n",
       "      <td>...</td>\n",
       "      <td>NaN</td>\n",
       "      <td>NaN</td>\n",
       "      <td>NaN</td>\n",
       "      <td>NaN</td>\n",
       "      <td>NaN</td>\n",
       "      <td>NaN</td>\n",
       "      <td>NaN</td>\n",
       "      <td>NaN</td>\n",
       "      <td>NaN</td>\n",
       "      <td>NaN</td>\n",
       "    </tr>\n",
       "    <tr>\n",
       "      <th>3</th>\n",
       "      <td>NaN</td>\n",
       "      <td>NaN</td>\n",
       "      <td>NaN</td>\n",
       "      <td>NaN</td>\n",
       "      <td>NaN</td>\n",
       "      <td>NaN</td>\n",
       "      <td>NaN</td>\n",
       "      <td>NaN</td>\n",
       "      <td>NaN</td>\n",
       "      <td>NaN</td>\n",
       "      <td>...</td>\n",
       "      <td>NaN</td>\n",
       "      <td>NaN</td>\n",
       "      <td>NaN</td>\n",
       "      <td>NaN</td>\n",
       "      <td>NaN</td>\n",
       "      <td>NaN</td>\n",
       "      <td>NaN</td>\n",
       "      <td>NaN</td>\n",
       "      <td>NaN</td>\n",
       "      <td>NaN</td>\n",
       "    </tr>\n",
       "    <tr>\n",
       "      <th>5</th>\n",
       "      <td>NaN</td>\n",
       "      <td>NaN</td>\n",
       "      <td>NaN</td>\n",
       "      <td>NaN</td>\n",
       "      <td>NaN</td>\n",
       "      <td>NaN</td>\n",
       "      <td>NaN</td>\n",
       "      <td>NaN</td>\n",
       "      <td>NaN</td>\n",
       "      <td>NaN</td>\n",
       "      <td>...</td>\n",
       "      <td>NaN</td>\n",
       "      <td>NaN</td>\n",
       "      <td>NaN</td>\n",
       "      <td>NaN</td>\n",
       "      <td>2.0</td>\n",
       "      <td>NaN</td>\n",
       "      <td>NaN</td>\n",
       "      <td>NaN</td>\n",
       "      <td>NaN</td>\n",
       "      <td>NaN</td>\n",
       "    </tr>\n",
       "    <tr>\n",
       "      <th>7</th>\n",
       "      <td>NaN</td>\n",
       "      <td>NaN</td>\n",
       "      <td>NaN</td>\n",
       "      <td>NaN</td>\n",
       "      <td>NaN</td>\n",
       "      <td>NaN</td>\n",
       "      <td>NaN</td>\n",
       "      <td>NaN</td>\n",
       "      <td>NaN</td>\n",
       "      <td>NaN</td>\n",
       "      <td>...</td>\n",
       "      <td>NaN</td>\n",
       "      <td>NaN</td>\n",
       "      <td>NaN</td>\n",
       "      <td>NaN</td>\n",
       "      <td>NaN</td>\n",
       "      <td>NaN</td>\n",
       "      <td>NaN</td>\n",
       "      <td>NaN</td>\n",
       "      <td>NaN</td>\n",
       "      <td>NaN</td>\n",
       "    </tr>\n",
       "  </tbody>\n",
       "</table>\n",
       "<p>5 rows × 9926 columns</p>\n",
       "</div>"
      ],
      "text/plain": [
       "name     &quot;0&quot;  \\\n",
       "user_id                  \n",
       "1                  NaN   \n",
       "2                  NaN   \n",
       "3                  NaN   \n",
       "5                  NaN   \n",
       "7                  NaN   \n",
       "\n",
       "name     &quot;Aesop&quot; no Ohanashi yori: Ushi to Kaeru, Yokubatta Inu  \\\n",
       "user_id                                                                     \n",
       "1                                                      NaN                  \n",
       "2                                                      NaN                  \n",
       "3                                                      NaN                  \n",
       "5                                                      NaN                  \n",
       "7                                                      NaN                  \n",
       "\n",
       "name     &quot;Bungaku Shoujo&quot; Kyou no Oyatsu: Hatsukoi  \\\n",
       "user_id                                                        \n",
       "1                                                      NaN     \n",
       "2                                                      NaN     \n",
       "3                                                      NaN     \n",
       "5                                                      NaN     \n",
       "7                                                      NaN     \n",
       "\n",
       "name     &quot;Bungaku Shoujo&quot; Memoire  &quot;Bungaku Shoujo&quot; Movie  \\\n",
       "user_id                                                                         \n",
       "1                                       NaN                               NaN   \n",
       "2                                       NaN                               NaN   \n",
       "3                                       NaN                               NaN   \n",
       "5                                       NaN                               NaN   \n",
       "7                                       NaN                               NaN   \n",
       "\n",
       "name     &quot;Eiji&quot;  .hack//G.U. Returner  .hack//G.U. Trilogy  \\\n",
       "user_id                                                                \n",
       "1                     NaN                   NaN                  NaN   \n",
       "2                     NaN                   NaN                  NaN   \n",
       "3                     NaN                   NaN                  NaN   \n",
       "5                     NaN                   NaN                  NaN   \n",
       "7                     NaN                   NaN                  NaN   \n",
       "\n",
       "name     .hack//G.U. Trilogy: Parody Mode  .hack//Gift  ...  \\\n",
       "user_id                                                 ...   \n",
       "1                                     NaN          NaN  ...   \n",
       "2                                     NaN          NaN  ...   \n",
       "3                                     NaN          NaN  ...   \n",
       "5                                     NaN          NaN  ...   \n",
       "7                                     NaN          NaN  ...   \n",
       "\n",
       "name     lilac (bombs Jun Togawa)  makemagic  s.CRY.ed  vivi  xxxHOLiC  \\\n",
       "user_id                                                                  \n",
       "1                             NaN        NaN       NaN   NaN       NaN   \n",
       "2                             NaN        NaN       NaN   NaN       NaN   \n",
       "3                             NaN        NaN       NaN   NaN       NaN   \n",
       "5                             NaN        NaN       NaN   NaN       2.0   \n",
       "7                             NaN        NaN       NaN   NaN       NaN   \n",
       "\n",
       "name     xxxHOLiC Kei  xxxHOLiC Movie: Manatsu no Yoru no Yume  xxxHOLiC Rou  \\\n",
       "user_id                                                                        \n",
       "1                 NaN                                      NaN           NaN   \n",
       "2                 NaN                                      NaN           NaN   \n",
       "3                 NaN                                      NaN           NaN   \n",
       "5                 NaN                                      NaN           NaN   \n",
       "7                 NaN                                      NaN           NaN   \n",
       "\n",
       "name     xxxHOLiC Shunmuki   ◯  \n",
       "user_id                         \n",
       "1                      NaN NaN  \n",
       "2                      NaN NaN  \n",
       "3                      NaN NaN  \n",
       "5                      NaN NaN  \n",
       "7                      NaN NaN  \n",
       "\n",
       "[5 rows x 9926 columns]"
      ]
     },
     "execution_count": 14,
     "metadata": {},
     "output_type": "execute_result"
    }
   ],
   "source": [
    "anime_df.head()"
   ]
  },
  {
   "cell_type": "code",
   "execution_count": 35,
   "id": "522b10a0",
   "metadata": {},
   "outputs": [
    {
     "name": "stdout",
     "output_type": "stream",
     "text": [
      "11845\n"
     ]
    }
   ],
   "source": [
    "random_user = random.choice(anime_df.index)\n",
    "print(random_user)"
   ]
  },
  {
   "cell_type": "code",
   "execution_count": 36,
   "id": "af30852a",
   "metadata": {},
   "outputs": [
    {
     "data": {
      "text/plain": [
       "(1, 9926)"
      ]
     },
     "execution_count": 36,
     "metadata": {},
     "output_type": "execute_result"
    }
   ],
   "source": [
    "random_user_df = anime_df[anime_df.index == random_user]\n",
    "random_user_df.shape"
   ]
  },
  {
   "cell_type": "code",
   "execution_count": 66,
   "id": "a6a2a151",
   "metadata": {},
   "outputs": [
    {
     "data": {
      "text/html": [
       "<div>\n",
       "<style scoped>\n",
       "    .dataframe tbody tr th:only-of-type {\n",
       "        vertical-align: middle;\n",
       "    }\n",
       "\n",
       "    .dataframe tbody tr th {\n",
       "        vertical-align: top;\n",
       "    }\n",
       "\n",
       "    .dataframe thead th {\n",
       "        text-align: right;\n",
       "    }\n",
       "</style>\n",
       "<table border=\"1\" class=\"dataframe\">\n",
       "  <thead>\n",
       "    <tr style=\"text-align: right;\">\n",
       "      <th>user_id</th>\n",
       "      <th>11845</th>\n",
       "    </tr>\n",
       "    <tr>\n",
       "      <th>name</th>\n",
       "      <th></th>\n",
       "    </tr>\n",
       "  </thead>\n",
       "  <tbody>\n",
       "    <tr>\n",
       "      <th>&amp;quot;0&amp;quot;</th>\n",
       "      <td>NaN</td>\n",
       "    </tr>\n",
       "    <tr>\n",
       "      <th>&amp;quot;Aesop&amp;quot; no Ohanashi yori: Ushi to Kaeru, Yokubatta Inu</th>\n",
       "      <td>NaN</td>\n",
       "    </tr>\n",
       "    <tr>\n",
       "      <th>&amp;quot;Bungaku Shoujo&amp;quot; Kyou no Oyatsu: Hatsukoi</th>\n",
       "      <td>NaN</td>\n",
       "    </tr>\n",
       "    <tr>\n",
       "      <th>&amp;quot;Bungaku Shoujo&amp;quot; Memoire</th>\n",
       "      <td>NaN</td>\n",
       "    </tr>\n",
       "    <tr>\n",
       "      <th>&amp;quot;Bungaku Shoujo&amp;quot; Movie</th>\n",
       "      <td>NaN</td>\n",
       "    </tr>\n",
       "    <tr>\n",
       "      <th>...</th>\n",
       "      <td>...</td>\n",
       "    </tr>\n",
       "    <tr>\n",
       "      <th>xxxHOLiC Kei</th>\n",
       "      <td>NaN</td>\n",
       "    </tr>\n",
       "    <tr>\n",
       "      <th>xxxHOLiC Movie: Manatsu no Yoru no Yume</th>\n",
       "      <td>NaN</td>\n",
       "    </tr>\n",
       "    <tr>\n",
       "      <th>xxxHOLiC Rou</th>\n",
       "      <td>NaN</td>\n",
       "    </tr>\n",
       "    <tr>\n",
       "      <th>xxxHOLiC Shunmuki</th>\n",
       "      <td>NaN</td>\n",
       "    </tr>\n",
       "    <tr>\n",
       "      <th>◯</th>\n",
       "      <td>NaN</td>\n",
       "    </tr>\n",
       "  </tbody>\n",
       "</table>\n",
       "<p>9926 rows × 1 columns</p>\n",
       "</div>"
      ],
      "text/plain": [
       "user_id                                             11845\n",
       "name                                                     \n",
       "&quot;0&quot;                                         NaN\n",
       "&quot;Aesop&quot; no Ohanashi yori: Ushi to Kae...    NaN\n",
       "&quot;Bungaku Shoujo&quot; Kyou no Oyatsu: Hats...    NaN\n",
       "&quot;Bungaku Shoujo&quot; Memoire                    NaN\n",
       "&quot;Bungaku Shoujo&quot; Movie                      NaN\n",
       "...                                                   ...\n",
       "xxxHOLiC Kei                                          NaN\n",
       "xxxHOLiC Movie: Manatsu no Yoru no Yume               NaN\n",
       "xxxHOLiC Rou                                          NaN\n",
       "xxxHOLiC Shunmuki                                     NaN\n",
       "◯                                                     NaN\n",
       "\n",
       "[9926 rows x 1 columns]"
      ]
     },
     "execution_count": 66,
     "metadata": {},
     "output_type": "execute_result"
    }
   ],
   "source": [
    "random_user_df.T"
   ]
  },
  {
   "cell_type": "code",
   "execution_count": 38,
   "id": "a8190d78",
   "metadata": {},
   "outputs": [
    {
     "data": {
      "text/plain": [
       "['Ao no Exorcist',\n",
       " 'Ao no Exorcist Movie',\n",
       " 'Ao no Exorcist: Kuro no Iede',\n",
       " 'Bakuman.',\n",
       " 'Bakuman. 2nd Season',\n",
       " 'Bakuman. 3rd Season',\n",
       " 'Blood+',\n",
       " 'Btooom!',\n",
       " 'Death Note',\n",
       " 'Durarara!!']"
      ]
     },
     "execution_count": 38,
     "metadata": {},
     "output_type": "execute_result"
    }
   ],
   "source": [
    "# the animes have been watched by random user\n",
    "anime_watched = random_user_df.columns[random_user_df.notna().any()].to_list()\n",
    "anime_watched[0:10]"
   ]
  },
  {
   "cell_type": "code",
   "execution_count": 39,
   "id": "a3ac4140",
   "metadata": {},
   "outputs": [
    {
     "data": {
      "text/plain": [
       "41"
      ]
     },
     "execution_count": 39,
     "metadata": {},
     "output_type": "execute_result"
    }
   ],
   "source": [
    "# the numbers of anime that is watched\n",
    "len(anime_watched)"
   ]
  },
  {
   "cell_type": "code",
   "execution_count": 40,
   "id": "77fe049f",
   "metadata": {},
   "outputs": [
    {
     "data": {
      "text/plain": [
       "(69600, 41)"
      ]
     },
     "execution_count": 40,
     "metadata": {},
     "output_type": "execute_result"
    }
   ],
   "source": [
    "anime_watched_df = anime_df[anime_watched]\n",
    "anime_watched_df.shape"
   ]
  },
  {
   "cell_type": "code",
   "execution_count": 41,
   "id": "712f75f1",
   "metadata": {},
   "outputs": [
    {
     "data": {
      "text/html": [
       "<div>\n",
       "<style scoped>\n",
       "    .dataframe tbody tr th:only-of-type {\n",
       "        vertical-align: middle;\n",
       "    }\n",
       "\n",
       "    .dataframe tbody tr th {\n",
       "        vertical-align: top;\n",
       "    }\n",
       "\n",
       "    .dataframe thead th {\n",
       "        text-align: right;\n",
       "    }\n",
       "</style>\n",
       "<table border=\"1\" class=\"dataframe\">\n",
       "  <thead>\n",
       "    <tr style=\"text-align: right;\">\n",
       "      <th></th>\n",
       "      <th>user_id</th>\n",
       "      <th>anime_count</th>\n",
       "    </tr>\n",
       "  </thead>\n",
       "  <tbody>\n",
       "    <tr>\n",
       "      <th>0</th>\n",
       "      <td>1</td>\n",
       "      <td>1</td>\n",
       "    </tr>\n",
       "    <tr>\n",
       "      <th>1</th>\n",
       "      <td>2</td>\n",
       "      <td>0</td>\n",
       "    </tr>\n",
       "    <tr>\n",
       "      <th>2</th>\n",
       "      <td>3</td>\n",
       "      <td>12</td>\n",
       "    </tr>\n",
       "    <tr>\n",
       "      <th>3</th>\n",
       "      <td>5</td>\n",
       "      <td>18</td>\n",
       "    </tr>\n",
       "    <tr>\n",
       "      <th>4</th>\n",
       "      <td>7</td>\n",
       "      <td>9</td>\n",
       "    </tr>\n",
       "  </tbody>\n",
       "</table>\n",
       "</div>"
      ],
      "text/plain": [
       "   user_id  anime_count\n",
       "0        1            1\n",
       "1        2            0\n",
       "2        3           12\n",
       "3        5           18\n",
       "4        7            9"
      ]
     },
     "execution_count": 41,
     "metadata": {},
     "output_type": "execute_result"
    }
   ],
   "source": [
    "anime_movie_count = anime_watched_df.T.notnull().sum()\n",
    "anime_movie_count = anime_movie_count.reset_index()\n",
    "anime_movie_count.columns = [\"user_id\", \"anime_count\"]\n",
    "anime_movie_count.head()"
   ]
  },
  {
   "cell_type": "code",
   "execution_count": 69,
   "id": "6f5a545a",
   "metadata": {},
   "outputs": [
    {
     "data": {
      "text/html": [
       "<div>\n",
       "<style scoped>\n",
       "    .dataframe tbody tr th:only-of-type {\n",
       "        vertical-align: middle;\n",
       "    }\n",
       "\n",
       "    .dataframe tbody tr th {\n",
       "        vertical-align: top;\n",
       "    }\n",
       "\n",
       "    .dataframe thead th {\n",
       "        text-align: right;\n",
       "    }\n",
       "</style>\n",
       "<table border=\"1\" class=\"dataframe\">\n",
       "  <thead>\n",
       "    <tr style=\"text-align: right;\">\n",
       "      <th></th>\n",
       "      <th>count</th>\n",
       "      <th>mean</th>\n",
       "      <th>std</th>\n",
       "      <th>min</th>\n",
       "      <th>50%</th>\n",
       "      <th>75%</th>\n",
       "      <th>90%</th>\n",
       "      <th>91%</th>\n",
       "      <th>92%</th>\n",
       "      <th>93%</th>\n",
       "      <th>94%</th>\n",
       "      <th>95%</th>\n",
       "      <th>96%</th>\n",
       "      <th>97%</th>\n",
       "      <th>98%</th>\n",
       "      <th>99%</th>\n",
       "      <th>max</th>\n",
       "    </tr>\n",
       "  </thead>\n",
       "  <tbody>\n",
       "    <tr>\n",
       "      <th>user_id</th>\n",
       "      <td>69600.0</td>\n",
       "      <td>36781.055158</td>\n",
       "      <td>21212.885563</td>\n",
       "      <td>1.0</td>\n",
       "      <td>36811.5</td>\n",
       "      <td>55128.25</td>\n",
       "      <td>66147.1</td>\n",
       "      <td>66879.09</td>\n",
       "      <td>67598.08</td>\n",
       "      <td>68325.07</td>\n",
       "      <td>69062.12</td>\n",
       "      <td>69821.05</td>\n",
       "      <td>70570.04</td>\n",
       "      <td>71303.03</td>\n",
       "      <td>72040.02</td>\n",
       "      <td>72787.01</td>\n",
       "      <td>73516.0</td>\n",
       "    </tr>\n",
       "    <tr>\n",
       "      <th>anime_count</th>\n",
       "      <td>69600.0</td>\n",
       "      <td>6.841868</td>\n",
       "      <td>6.415112</td>\n",
       "      <td>0.0</td>\n",
       "      <td>5.0</td>\n",
       "      <td>10.00</td>\n",
       "      <td>16.0</td>\n",
       "      <td>17.00</td>\n",
       "      <td>17.00</td>\n",
       "      <td>18.00</td>\n",
       "      <td>19.00</td>\n",
       "      <td>20.00</td>\n",
       "      <td>21.00</td>\n",
       "      <td>22.00</td>\n",
       "      <td>24.00</td>\n",
       "      <td>26.00</td>\n",
       "      <td>41.0</td>\n",
       "    </tr>\n",
       "  </tbody>\n",
       "</table>\n",
       "</div>"
      ],
      "text/plain": [
       "               count          mean           std  min      50%       75%  \\\n",
       "user_id      69600.0  36781.055158  21212.885563  1.0  36811.5  55128.25   \n",
       "anime_count  69600.0      6.841868      6.415112  0.0      5.0     10.00   \n",
       "\n",
       "                 90%       91%       92%       93%       94%       95%  \\\n",
       "user_id      66147.1  66879.09  67598.08  68325.07  69062.12  69821.05   \n",
       "anime_count     16.0     17.00     17.00     18.00     19.00     20.00   \n",
       "\n",
       "                  96%       97%       98%       99%      max  \n",
       "user_id      70570.04  71303.03  72040.02  72787.01  73516.0  \n",
       "anime_count     21.00     22.00     24.00     26.00     41.0  "
      ]
     },
     "execution_count": 69,
     "metadata": {},
     "output_type": "execute_result"
    }
   ],
   "source": [
    "anime_movie_count.describe([0.5,0.75,0.90,0.91,0.92,0.93,0.94,0.95,0.96,0.97,0.98,0.99]).T"
   ]
  },
  {
   "cell_type": "code",
   "execution_count": 67,
   "id": "4ba49ba8",
   "metadata": {},
   "outputs": [
    {
     "data": {
      "text/plain": [
       "[<matplotlib.lines.Line2D at 0x21ea46aa190>]"
      ]
     },
     "execution_count": 67,
     "metadata": {},
     "output_type": "execute_result"
    },
    {
     "data": {
      "image/png": "[encoded data removed]",
      "text/plain": [
       "<Figure size 640x480 with 1 Axes>"
      ]
     },
     "metadata": {},
     "output_type": "display_data"
    }
   ],
   "source": [
    "plt.title('The other users similarity anime counts')\n",
    "plt.ylabel('the number of anime')\n",
    "plt.xlabel('precentage of seen anime by users')\n",
    "plt.plot(plott['anime_count'][3:])"
   ]
  },
  {
   "cell_type": "code",
   "execution_count": 43,
   "id": "eda2c065",
   "metadata": {},
   "outputs": [
    {
     "data": {
      "text/plain": [
       "17237"
      ]
     },
     "execution_count": 43,
     "metadata": {},
     "output_type": "execute_result"
    }
   ],
   "source": [
    "perc = len(anime_watched) * 25 / 100\n",
    "users_same_movies = anime_movie_count[anime_movie_count[\"anime_count\"] > perc][\"user_id\"]\n",
    "len(users_same_movies)"
   ]
  },
  {
   "cell_type": "code",
   "execution_count": 44,
   "id": "20536366",
   "metadata": {},
   "outputs": [
    {
     "data": {
      "text/plain": [
       "(17237, 41)"
      ]
     },
     "execution_count": 44,
     "metadata": {},
     "output_type": "execute_result"
    }
   ],
   "source": [
    "final_df = anime_watched_df[anime_watched_df.index.isin(users_same_movies)]\n",
    "final_df.shape"
   ]
  },
  {
   "cell_type": "code",
   "execution_count": 45,
   "id": "dccf54d6",
   "metadata": {},
   "outputs": [
    {
     "data": {
      "text/html": [
       "<div>\n",
       "<style scoped>\n",
       "    .dataframe tbody tr th:only-of-type {\n",
       "        vertical-align: middle;\n",
       "    }\n",
       "\n",
       "    .dataframe tbody tr th {\n",
       "        vertical-align: top;\n",
       "    }\n",
       "\n",
       "    .dataframe thead th {\n",
       "        text-align: right;\n",
       "    }\n",
       "</style>\n",
       "<table border=\"1\" class=\"dataframe\">\n",
       "  <thead>\n",
       "    <tr style=\"text-align: right;\">\n",
       "      <th>name</th>\n",
       "      <th>Ao no Exorcist</th>\n",
       "      <th>Ao no Exorcist Movie</th>\n",
       "      <th>Ao no Exorcist: Kuro no Iede</th>\n",
       "      <th>Bakuman.</th>\n",
       "      <th>Bakuman. 2nd Season</th>\n",
       "      <th>Bakuman. 3rd Season</th>\n",
       "      <th>Blood+</th>\n",
       "      <th>Btooom!</th>\n",
       "      <th>Death Note</th>\n",
       "      <th>Durarara!!</th>\n",
       "      <th>...</th>\n",
       "      <th>Shingeki no Kyojin</th>\n",
       "      <th>Soul Eater</th>\n",
       "      <th>Steins;Gate</th>\n",
       "      <th>Steins;Gate: Oukoubakko no Poriomania</th>\n",
       "      <th>Sword Art Online</th>\n",
       "      <th>Sword Art Online: Extra Edition</th>\n",
       "      <th>Tonari no Kaibutsu-kun</th>\n",
       "      <th>Tonari no Totoro</th>\n",
       "      <th>Toradora!</th>\n",
       "      <th>Zankyou no Terror</th>\n",
       "    </tr>\n",
       "    <tr>\n",
       "      <th>user_id</th>\n",
       "      <th></th>\n",
       "      <th></th>\n",
       "      <th></th>\n",
       "      <th></th>\n",
       "      <th></th>\n",
       "      <th></th>\n",
       "      <th></th>\n",
       "      <th></th>\n",
       "      <th></th>\n",
       "      <th></th>\n",
       "      <th></th>\n",
       "      <th></th>\n",
       "      <th></th>\n",
       "      <th></th>\n",
       "      <th></th>\n",
       "      <th></th>\n",
       "      <th></th>\n",
       "      <th></th>\n",
       "      <th></th>\n",
       "      <th></th>\n",
       "      <th></th>\n",
       "    </tr>\n",
       "  </thead>\n",
       "  <tbody>\n",
       "    <tr>\n",
       "      <th>3</th>\n",
       "      <td>8.0</td>\n",
       "      <td>7.0</td>\n",
       "      <td>NaN</td>\n",
       "      <td>NaN</td>\n",
       "      <td>NaN</td>\n",
       "      <td>NaN</td>\n",
       "      <td>NaN</td>\n",
       "      <td>8.0</td>\n",
       "      <td>10.0</td>\n",
       "      <td>NaN</td>\n",
       "      <td>...</td>\n",
       "      <td>10.0</td>\n",
       "      <td>8.0</td>\n",
       "      <td>NaN</td>\n",
       "      <td>NaN</td>\n",
       "      <td>9.0</td>\n",
       "      <td>5.0</td>\n",
       "      <td>NaN</td>\n",
       "      <td>NaN</td>\n",
       "      <td>NaN</td>\n",
       "      <td>NaN</td>\n",
       "    </tr>\n",
       "    <tr>\n",
       "      <th>5</th>\n",
       "      <td>4.0</td>\n",
       "      <td>NaN</td>\n",
       "      <td>NaN</td>\n",
       "      <td>5.0</td>\n",
       "      <td>5.0</td>\n",
       "      <td>NaN</td>\n",
       "      <td>2.0</td>\n",
       "      <td>NaN</td>\n",
       "      <td>4.0</td>\n",
       "      <td>7.0</td>\n",
       "      <td>...</td>\n",
       "      <td>NaN</td>\n",
       "      <td>5.0</td>\n",
       "      <td>9.0</td>\n",
       "      <td>8.0</td>\n",
       "      <td>1.0</td>\n",
       "      <td>NaN</td>\n",
       "      <td>2.0</td>\n",
       "      <td>NaN</td>\n",
       "      <td>3.0</td>\n",
       "      <td>NaN</td>\n",
       "    </tr>\n",
       "    <tr>\n",
       "      <th>11</th>\n",
       "      <td>NaN</td>\n",
       "      <td>NaN</td>\n",
       "      <td>NaN</td>\n",
       "      <td>7.0</td>\n",
       "      <td>7.0</td>\n",
       "      <td>7.0</td>\n",
       "      <td>NaN</td>\n",
       "      <td>NaN</td>\n",
       "      <td>NaN</td>\n",
       "      <td>NaN</td>\n",
       "      <td>...</td>\n",
       "      <td>9.0</td>\n",
       "      <td>NaN</td>\n",
       "      <td>7.0</td>\n",
       "      <td>NaN</td>\n",
       "      <td>8.0</td>\n",
       "      <td>NaN</td>\n",
       "      <td>NaN</td>\n",
       "      <td>8.0</td>\n",
       "      <td>NaN</td>\n",
       "      <td>NaN</td>\n",
       "    </tr>\n",
       "    <tr>\n",
       "      <th>17</th>\n",
       "      <td>NaN</td>\n",
       "      <td>NaN</td>\n",
       "      <td>NaN</td>\n",
       "      <td>NaN</td>\n",
       "      <td>NaN</td>\n",
       "      <td>NaN</td>\n",
       "      <td>NaN</td>\n",
       "      <td>NaN</td>\n",
       "      <td>10.0</td>\n",
       "      <td>7.0</td>\n",
       "      <td>...</td>\n",
       "      <td>9.0</td>\n",
       "      <td>NaN</td>\n",
       "      <td>10.0</td>\n",
       "      <td>NaN</td>\n",
       "      <td>7.0</td>\n",
       "      <td>NaN</td>\n",
       "      <td>NaN</td>\n",
       "      <td>NaN</td>\n",
       "      <td>7.0</td>\n",
       "      <td>7.0</td>\n",
       "    </tr>\n",
       "    <tr>\n",
       "      <th>21</th>\n",
       "      <td>7.0</td>\n",
       "      <td>7.0</td>\n",
       "      <td>NaN</td>\n",
       "      <td>NaN</td>\n",
       "      <td>NaN</td>\n",
       "      <td>NaN</td>\n",
       "      <td>NaN</td>\n",
       "      <td>NaN</td>\n",
       "      <td>10.0</td>\n",
       "      <td>NaN</td>\n",
       "      <td>...</td>\n",
       "      <td>8.0</td>\n",
       "      <td>7.0</td>\n",
       "      <td>NaN</td>\n",
       "      <td>NaN</td>\n",
       "      <td>NaN</td>\n",
       "      <td>NaN</td>\n",
       "      <td>7.0</td>\n",
       "      <td>9.0</td>\n",
       "      <td>8.0</td>\n",
       "      <td>10.0</td>\n",
       "    </tr>\n",
       "  </tbody>\n",
       "</table>\n",
       "<p>5 rows × 41 columns</p>\n",
       "</div>"
      ],
      "text/plain": [
       "name     Ao no Exorcist  Ao no Exorcist Movie  Ao no Exorcist: Kuro no Iede  \\\n",
       "user_id                                                                       \n",
       "3                   8.0                   7.0                           NaN   \n",
       "5                   4.0                   NaN                           NaN   \n",
       "11                  NaN                   NaN                           NaN   \n",
       "17                  NaN                   NaN                           NaN   \n",
       "21                  7.0                   7.0                           NaN   \n",
       "\n",
       "name     Bakuman.  Bakuman. 2nd Season  Bakuman. 3rd Season  Blood+  Btooom!  \\\n",
       "user_id                                                                        \n",
       "3             NaN                  NaN                  NaN     NaN      8.0   \n",
       "5             5.0                  5.0                  NaN     2.0      NaN   \n",
       "11            7.0                  7.0                  7.0     NaN      NaN   \n",
       "17            NaN                  NaN                  NaN     NaN      NaN   \n",
       "21            NaN                  NaN                  NaN     NaN      NaN   \n",
       "\n",
       "name     Death Note  Durarara!!  ...  Shingeki no Kyojin  Soul Eater  \\\n",
       "user_id                          ...                                   \n",
       "3              10.0         NaN  ...                10.0         8.0   \n",
       "5               4.0         7.0  ...                 NaN         5.0   \n",
       "11              NaN         NaN  ...                 9.0         NaN   \n",
       "17             10.0         7.0  ...                 9.0         NaN   \n",
       "21             10.0         NaN  ...                 8.0         7.0   \n",
       "\n",
       "name     Steins;Gate  Steins;Gate: Oukoubakko no Poriomania  Sword Art Online  \\\n",
       "user_id                                                                         \n",
       "3                NaN                                    NaN               9.0   \n",
       "5                9.0                                    8.0               1.0   \n",
       "11               7.0                                    NaN               8.0   \n",
       "17              10.0                                    NaN               7.0   \n",
       "21               NaN                                    NaN               NaN   \n",
       "\n",
       "name     Sword Art Online: Extra Edition  Tonari no Kaibutsu-kun  \\\n",
       "user_id                                                            \n",
       "3                                    5.0                     NaN   \n",
       "5                                    NaN                     2.0   \n",
       "11                                   NaN                     NaN   \n",
       "17                                   NaN                     NaN   \n",
       "21                                   NaN                     7.0   \n",
       "\n",
       "name     Tonari no Totoro  Toradora!  Zankyou no Terror  \n",
       "user_id                                                  \n",
       "3                     NaN        NaN                NaN  \n",
       "5                     NaN        3.0                NaN  \n",
       "11                    8.0        NaN                NaN  \n",
       "17                    NaN        7.0                7.0  \n",
       "21                    9.0        8.0               10.0  \n",
       "\n",
       "[5 rows x 41 columns]"
      ]
     },
     "execution_count": 45,
     "metadata": {},
     "output_type": "execute_result"
    }
   ],
   "source": [
    "final_df.head()"
   ]
  },
  {
   "cell_type": "code",
   "execution_count": 46,
   "id": "5918682f",
   "metadata": {},
   "outputs": [
    {
     "data": {
      "text/html": [
       "<div>\n",
       "<style scoped>\n",
       "    .dataframe tbody tr th:only-of-type {\n",
       "        vertical-align: middle;\n",
       "    }\n",
       "\n",
       "    .dataframe tbody tr th {\n",
       "        vertical-align: top;\n",
       "    }\n",
       "\n",
       "    .dataframe thead th {\n",
       "        text-align: right;\n",
       "    }\n",
       "</style>\n",
       "<table border=\"1\" class=\"dataframe\">\n",
       "  <thead>\n",
       "    <tr style=\"text-align: right;\">\n",
       "      <th></th>\n",
       "      <th>user_id_1</th>\n",
       "      <th>user_id_2</th>\n",
       "      <th>corr</th>\n",
       "    </tr>\n",
       "  </thead>\n",
       "  <tbody>\n",
       "    <tr>\n",
       "      <th>0</th>\n",
       "      <td>60967</td>\n",
       "      <td>43285</td>\n",
       "      <td>-1.0</td>\n",
       "    </tr>\n",
       "    <tr>\n",
       "      <th>1</th>\n",
       "      <td>32011</td>\n",
       "      <td>9384</td>\n",
       "      <td>-1.0</td>\n",
       "    </tr>\n",
       "    <tr>\n",
       "      <th>2</th>\n",
       "      <td>63154</td>\n",
       "      <td>31665</td>\n",
       "      <td>-1.0</td>\n",
       "    </tr>\n",
       "    <tr>\n",
       "      <th>3</th>\n",
       "      <td>49454</td>\n",
       "      <td>14933</td>\n",
       "      <td>-1.0</td>\n",
       "    </tr>\n",
       "    <tr>\n",
       "      <th>4</th>\n",
       "      <td>5504</td>\n",
       "      <td>3014</td>\n",
       "      <td>-1.0</td>\n",
       "    </tr>\n",
       "  </tbody>\n",
       "</table>\n",
       "</div>"
      ],
      "text/plain": [
       "   user_id_1  user_id_2  corr\n",
       "0      60967      43285  -1.0\n",
       "1      32011       9384  -1.0\n",
       "2      63154      31665  -1.0\n",
       "3      49454      14933  -1.0\n",
       "4       5504       3014  -1.0"
      ]
     },
     "execution_count": 46,
     "metadata": {},
     "output_type": "execute_result"
    }
   ],
   "source": [
    "corr_df = final_df.T.corr().unstack().sort_values()\n",
    "corr_df = pd.DataFrame(corr_df, columns=[\"corr\"])\n",
    "corr_df.index.names = ['user_id_1', 'user_id_2']\n",
    "corr_df = corr_df.reset_index()\n",
    "corr_df.head()"
   ]
  },
  {
   "cell_type": "code",
   "execution_count": 47,
   "id": "e94a1bb7",
   "metadata": {},
   "outputs": [
    {
     "data": {
      "text/plain": [
       "(4676, 2)"
      ]
     },
     "execution_count": 47,
     "metadata": {},
     "output_type": "execute_result"
    }
   ],
   "source": [
    "top_users = corr_df[(corr_df[\"user_id_1\"] == random_user) & (corr_df[\"corr\"] >= 0.50)][[\"user_id_2\", \"corr\"]].reset_index(drop=True)\n",
    "top_users = top_users.sort_values(by='corr', ascending=False)\n",
    "top_users.rename(columns={\"user_id_2\": \"user_id\"}, inplace=True)\n",
    "top_users.shape"
   ]
  },
  {
   "cell_type": "code",
   "execution_count": 48,
   "id": "cee6ef5e",
   "metadata": {},
   "outputs": [
    {
     "data": {
      "text/html": [
       "<div>\n",
       "<style scoped>\n",
       "    .dataframe tbody tr th:only-of-type {\n",
       "        vertical-align: middle;\n",
       "    }\n",
       "\n",
       "    .dataframe tbody tr th {\n",
       "        vertical-align: top;\n",
       "    }\n",
       "\n",
       "    .dataframe thead th {\n",
       "        text-align: right;\n",
       "    }\n",
       "</style>\n",
       "<table border=\"1\" class=\"dataframe\">\n",
       "  <thead>\n",
       "    <tr style=\"text-align: right;\">\n",
       "      <th></th>\n",
       "      <th>user_id</th>\n",
       "      <th>corr</th>\n",
       "    </tr>\n",
       "  </thead>\n",
       "  <tbody>\n",
       "    <tr>\n",
       "      <th>4675</th>\n",
       "      <td>11845</td>\n",
       "      <td>1.000000</td>\n",
       "    </tr>\n",
       "    <tr>\n",
       "      <th>4674</th>\n",
       "      <td>2097</td>\n",
       "      <td>0.977798</td>\n",
       "    </tr>\n",
       "    <tr>\n",
       "      <th>4673</th>\n",
       "      <td>43516</td>\n",
       "      <td>0.943154</td>\n",
       "    </tr>\n",
       "    <tr>\n",
       "      <th>4672</th>\n",
       "      <td>13297</td>\n",
       "      <td>0.938315</td>\n",
       "    </tr>\n",
       "    <tr>\n",
       "      <th>4671</th>\n",
       "      <td>25716</td>\n",
       "      <td>0.937672</td>\n",
       "    </tr>\n",
       "  </tbody>\n",
       "</table>\n",
       "</div>"
      ],
      "text/plain": [
       "      user_id      corr\n",
       "4675    11845  1.000000\n",
       "4674     2097  0.977798\n",
       "4673    43516  0.943154\n",
       "4672    13297  0.938315\n",
       "4671    25716  0.937672"
      ]
     },
     "execution_count": 48,
     "metadata": {},
     "output_type": "execute_result"
    }
   ],
   "source": [
    "top_users.head()"
   ]
  },
  {
   "cell_type": "code",
   "execution_count": 49,
   "id": "52056bd9",
   "metadata": {},
   "outputs": [
    {
     "data": {
      "text/html": [
       "<div>\n",
       "<style scoped>\n",
       "    .dataframe tbody tr th:only-of-type {\n",
       "        vertical-align: middle;\n",
       "    }\n",
       "\n",
       "    .dataframe tbody tr th {\n",
       "        vertical-align: top;\n",
       "    }\n",
       "\n",
       "    .dataframe thead th {\n",
       "        text-align: right;\n",
       "    }\n",
       "</style>\n",
       "<table border=\"1\" class=\"dataframe\">\n",
       "  <thead>\n",
       "    <tr style=\"text-align: right;\">\n",
       "      <th></th>\n",
       "      <th>user_id</th>\n",
       "      <th>corr</th>\n",
       "      <th>anime_id</th>\n",
       "      <th>rating</th>\n",
       "    </tr>\n",
       "  </thead>\n",
       "  <tbody>\n",
       "    <tr>\n",
       "      <th>41</th>\n",
       "      <td>2097</td>\n",
       "      <td>0.977798</td>\n",
       "      <td>355</td>\n",
       "      <td>8</td>\n",
       "    </tr>\n",
       "    <tr>\n",
       "      <th>42</th>\n",
       "      <td>2097</td>\n",
       "      <td>0.977798</td>\n",
       "      <td>2001</td>\n",
       "      <td>9</td>\n",
       "    </tr>\n",
       "    <tr>\n",
       "      <th>43</th>\n",
       "      <td>2097</td>\n",
       "      <td>0.977798</td>\n",
       "      <td>4224</td>\n",
       "      <td>8</td>\n",
       "    </tr>\n",
       "    <tr>\n",
       "      <th>44</th>\n",
       "      <td>2097</td>\n",
       "      <td>0.977798</td>\n",
       "      <td>9919</td>\n",
       "      <td>8</td>\n",
       "    </tr>\n",
       "    <tr>\n",
       "      <th>45</th>\n",
       "      <td>2097</td>\n",
       "      <td>0.977798</td>\n",
       "      <td>11757</td>\n",
       "      <td>7</td>\n",
       "    </tr>\n",
       "  </tbody>\n",
       "</table>\n",
       "</div>"
      ],
      "text/plain": [
       "    user_id      corr  anime_id  rating\n",
       "41     2097  0.977798       355       8\n",
       "42     2097  0.977798      2001       9\n",
       "43     2097  0.977798      4224       8\n",
       "44     2097  0.977798      9919       8\n",
       "45     2097  0.977798     11757       7"
      ]
     },
     "execution_count": 49,
     "metadata": {},
     "output_type": "execute_result"
    }
   ],
   "source": [
    "top_users_ratings = top_users.merge(anime_ratings[[\"user_id\", \"anime_id\", \"rating\"]], how='inner')\n",
    "top_users_ratings = top_users_ratings[top_users_ratings[\"user_id\"] != random_user]\n",
    "top_users_ratings[\"user_id\"].unique()\n",
    "top_users_ratings.head()"
   ]
  },
  {
   "cell_type": "code",
   "execution_count": 50,
   "id": "8f49e0d7",
   "metadata": {},
   "outputs": [
    {
     "data": {
      "text/html": [
       "<div>\n",
       "<style scoped>\n",
       "    .dataframe tbody tr th:only-of-type {\n",
       "        vertical-align: middle;\n",
       "    }\n",
       "\n",
       "    .dataframe tbody tr th {\n",
       "        vertical-align: top;\n",
       "    }\n",
       "\n",
       "    .dataframe thead th {\n",
       "        text-align: right;\n",
       "    }\n",
       "</style>\n",
       "<table border=\"1\" class=\"dataframe\">\n",
       "  <thead>\n",
       "    <tr style=\"text-align: right;\">\n",
       "      <th></th>\n",
       "      <th>user_id</th>\n",
       "      <th>corr</th>\n",
       "      <th>anime_id</th>\n",
       "      <th>rating</th>\n",
       "      <th>weighted_rating</th>\n",
       "    </tr>\n",
       "  </thead>\n",
       "  <tbody>\n",
       "    <tr>\n",
       "      <th>41</th>\n",
       "      <td>2097</td>\n",
       "      <td>0.977798</td>\n",
       "      <td>355</td>\n",
       "      <td>8</td>\n",
       "      <td>7.822385</td>\n",
       "    </tr>\n",
       "    <tr>\n",
       "      <th>42</th>\n",
       "      <td>2097</td>\n",
       "      <td>0.977798</td>\n",
       "      <td>2001</td>\n",
       "      <td>9</td>\n",
       "      <td>8.800183</td>\n",
       "    </tr>\n",
       "    <tr>\n",
       "      <th>43</th>\n",
       "      <td>2097</td>\n",
       "      <td>0.977798</td>\n",
       "      <td>4224</td>\n",
       "      <td>8</td>\n",
       "      <td>7.822385</td>\n",
       "    </tr>\n",
       "    <tr>\n",
       "      <th>44</th>\n",
       "      <td>2097</td>\n",
       "      <td>0.977798</td>\n",
       "      <td>9919</td>\n",
       "      <td>8</td>\n",
       "      <td>7.822385</td>\n",
       "    </tr>\n",
       "    <tr>\n",
       "      <th>45</th>\n",
       "      <td>2097</td>\n",
       "      <td>0.977798</td>\n",
       "      <td>11757</td>\n",
       "      <td>7</td>\n",
       "      <td>6.844587</td>\n",
       "    </tr>\n",
       "  </tbody>\n",
       "</table>\n",
       "</div>"
      ],
      "text/plain": [
       "    user_id      corr  anime_id  rating  weighted_rating\n",
       "41     2097  0.977798       355       8         7.822385\n",
       "42     2097  0.977798      2001       9         8.800183\n",
       "43     2097  0.977798      4224       8         7.822385\n",
       "44     2097  0.977798      9919       8         7.822385\n",
       "45     2097  0.977798     11757       7         6.844587"
      ]
     },
     "execution_count": 50,
     "metadata": {},
     "output_type": "execute_result"
    }
   ],
   "source": [
    "top_users_ratings['weighted_rating'] = top_users_ratings['corr'] * top_users_ratings['rating']\n",
    "top_users_ratings.head()"
   ]
  },
  {
   "cell_type": "code",
   "execution_count": 51,
   "id": "cf3ff497",
   "metadata": {},
   "outputs": [
    {
     "data": {
      "text/html": [
       "<div>\n",
       "<style scoped>\n",
       "    .dataframe tbody tr th:only-of-type {\n",
       "        vertical-align: middle;\n",
       "    }\n",
       "\n",
       "    .dataframe tbody tr th {\n",
       "        vertical-align: top;\n",
       "    }\n",
       "\n",
       "    .dataframe thead th {\n",
       "        text-align: right;\n",
       "    }\n",
       "</style>\n",
       "<table border=\"1\" class=\"dataframe\">\n",
       "  <thead>\n",
       "    <tr style=\"text-align: right;\">\n",
       "      <th></th>\n",
       "      <th>anime_id</th>\n",
       "      <th>weighted_rating</th>\n",
       "    </tr>\n",
       "  </thead>\n",
       "  <tbody>\n",
       "    <tr>\n",
       "      <th>0</th>\n",
       "      <td>1</td>\n",
       "      <td>5.578030</td>\n",
       "    </tr>\n",
       "    <tr>\n",
       "      <th>1</th>\n",
       "      <td>5</td>\n",
       "      <td>5.218865</td>\n",
       "    </tr>\n",
       "    <tr>\n",
       "      <th>2</th>\n",
       "      <td>6</td>\n",
       "      <td>5.167371</td>\n",
       "    </tr>\n",
       "    <tr>\n",
       "      <th>3</th>\n",
       "      <td>7</td>\n",
       "      <td>4.457644</td>\n",
       "    </tr>\n",
       "    <tr>\n",
       "      <th>4</th>\n",
       "      <td>8</td>\n",
       "      <td>4.180217</td>\n",
       "    </tr>\n",
       "  </tbody>\n",
       "</table>\n",
       "</div>"
      ],
      "text/plain": [
       "   anime_id  weighted_rating\n",
       "0         1         5.578030\n",
       "1         5         5.218865\n",
       "2         6         5.167371\n",
       "3         7         4.457644\n",
       "4         8         4.180217"
      ]
     },
     "execution_count": 51,
     "metadata": {},
     "output_type": "execute_result"
    }
   ],
   "source": [
    "recommendation_df = top_users_ratings.groupby('anime_id').agg({\"weighted_rating\": \"mean\"})\n",
    "recommendation_df = recommendation_df.reset_index()\n",
    "recommendation_df.head()"
   ]
  },
  {
   "cell_type": "code",
   "execution_count": 52,
   "id": "8fc1f78d",
   "metadata": {},
   "outputs": [],
   "source": [
    "recommendation_df[recommendation_df[\"weighted_rating\"] > 5]\n",
    "movies_to_be_recommend = recommendation_df[recommendation_df[\"weighted_rating\"] > 5].sort_values(\"weighted_rating\", ascending=False)"
   ]
  },
  {
   "cell_type": "code",
   "execution_count": 53,
   "id": "7c90fffb",
   "metadata": {},
   "outputs": [
    {
     "data": {
      "text/html": [
       "<div>\n",
       "<style scoped>\n",
       "    .dataframe tbody tr th:only-of-type {\n",
       "        vertical-align: middle;\n",
       "    }\n",
       "\n",
       "    .dataframe tbody tr th {\n",
       "        vertical-align: top;\n",
       "    }\n",
       "\n",
       "    .dataframe thead th {\n",
       "        text-align: right;\n",
       "    }\n",
       "</style>\n",
       "<table border=\"1\" class=\"dataframe\">\n",
       "  <thead>\n",
       "    <tr style=\"text-align: right;\">\n",
       "      <th></th>\n",
       "      <th>name</th>\n",
       "      <th>rating</th>\n",
       "    </tr>\n",
       "  </thead>\n",
       "  <tbody>\n",
       "    <tr>\n",
       "      <th>0</th>\n",
       "      <td>Manga Hajimete Monogatari</td>\n",
       "      <td>6.36</td>\n",
       "    </tr>\n",
       "    <tr>\n",
       "      <th>1</th>\n",
       "      <td>Kemono no Souja Erin: Soushuuhen</td>\n",
       "      <td>7.14</td>\n",
       "    </tr>\n",
       "    <tr>\n",
       "      <th>2</th>\n",
       "      <td>Gedou Gakuen</td>\n",
       "      <td>6.05</td>\n",
       "    </tr>\n",
       "    <tr>\n",
       "      <th>3</th>\n",
       "      <td>Gekitou! Crush Gear Turbo: Kaizabaan no Chousen</td>\n",
       "      <td>6.65</td>\n",
       "    </tr>\n",
       "    <tr>\n",
       "      <th>4</th>\n",
       "      <td>Eikoku Ikka, Nihon wo Taberu</td>\n",
       "      <td>6.43</td>\n",
       "    </tr>\n",
       "    <tr>\n",
       "      <th>5</th>\n",
       "      <td>Takara-sagashi</td>\n",
       "      <td>6.68</td>\n",
       "    </tr>\n",
       "    <tr>\n",
       "      <th>6</th>\n",
       "      <td>Onegai! Samia Don</td>\n",
       "      <td>7.14</td>\n",
       "    </tr>\n",
       "    <tr>\n",
       "      <th>7</th>\n",
       "      <td>Tistou Midori no Oyayubi</td>\n",
       "      <td>7.10</td>\n",
       "    </tr>\n",
       "    <tr>\n",
       "      <th>8</th>\n",
       "      <td>Inochi no Chikyuu: Dioxin no Natsu</td>\n",
       "      <td>6.73</td>\n",
       "    </tr>\n",
       "    <tr>\n",
       "      <th>9</th>\n",
       "      <td>Chocchan Monogatari</td>\n",
       "      <td>6.81</td>\n",
       "    </tr>\n",
       "  </tbody>\n",
       "</table>\n",
       "</div>"
      ],
      "text/plain": [
       "                                              name  rating\n",
       "0                        Manga Hajimete Monogatari    6.36\n",
       "1                 Kemono no Souja Erin: Soushuuhen    7.14\n",
       "2                                     Gedou Gakuen    6.05\n",
       "3  Gekitou! Crush Gear Turbo: Kaizabaan no Chousen    6.65\n",
       "4                     Eikoku Ikka, Nihon wo Taberu    6.43\n",
       "5                                   Takara-sagashi    6.68\n",
       "6                                Onegai! Samia Don    7.14\n",
       "7                         Tistou Midori no Oyayubi    7.10\n",
       "8               Inochi no Chikyuu: Dioxin no Natsu    6.73\n",
       "9                              Chocchan Monogatari    6.81"
      ]
     },
     "execution_count": 53,
     "metadata": {},
     "output_type": "execute_result"
    }
   ],
   "source": [
    "recommendation = movies_to_be_recommend.merge(anime[[\"anime_id\", \"name\",\"rating\"]])[[\"name\",\"rating\"]][0:10]\n",
    "recommendation"
   ]
  },
  {
   "cell_type": "code",
   "execution_count": 54,
   "id": "d96ec9d1",
   "metadata": {},
   "outputs": [],
   "source": [
    "recommendation.to_csv(\"recommendation.csv\",index=False)"
   ]
  },
  {
   "cell_type": "code",
   "execution_count": 76,
   "id": "0850847a",
   "metadata": {},
   "outputs": [
    {
     "name": "stderr",
     "output_type": "stream",
     "text": [
      "D:\\Anaconda\\Documents\\lib\\site-packages\\seaborn\\rcmod.py:82: DeprecationWarning: distutils Version classes are deprecated. Use packaging.version instead.\n",
      "  if LooseVersion(mpl.__version__) >= \"3.0\":\n",
      "D:\\Anaconda\\Documents\\lib\\site-packages\\setuptools\\_distutils\\version.py:346: DeprecationWarning: distutils Version classes are deprecated. Use packaging.version instead.\n",
      "  other = LooseVersion(other)\n"
     ]
    }
   ],
   "source": [
    "import seaborn as sns"
   ]
  },
  {
   "cell_type": "code",
   "execution_count": 89,
   "id": "57db1247",
   "metadata": {},
   "outputs": [],
   "source": [
    "anime2 = anime_.copy()"
   ]
  },
  {
   "cell_type": "code",
   "execution_count": 99,
   "id": "89cf7a35",
   "metadata": {},
   "outputs": [],
   "source": [
    "anime2.drop(['anime_id','name','genre'],axis=1,inplace=True)"
   ]
  },
  {
   "cell_type": "code",
   "execution_count": 100,
   "id": "ca241194",
   "metadata": {},
   "outputs": [
    {
     "data": {
      "text/plain": [
       "type         25\n",
       "episodes      0\n",
       "rating      230\n",
       "members       0\n",
       "dtype: int64"
      ]
     },
     "execution_count": 100,
     "metadata": {},
     "output_type": "execute_result"
    }
   ],
   "source": [
    "anime2.isnull().sum()"
   ]
  },
  {
   "cell_type": "code",
   "execution_count": 104,
   "id": "e88885a7",
   "metadata": {},
   "outputs": [],
   "source": [
    "anime2.drop(anime2.loc[anime2.isnull().sum(axis=1)>0].index, inplace=True)"
   ]
  },
  {
   "cell_type": "code",
   "execution_count": 105,
   "id": "2bbfad42",
   "metadata": {},
   "outputs": [
    {
     "data": {
      "text/plain": [
       "type        0\n",
       "episodes    0\n",
       "rating      0\n",
       "members     0\n",
       "dtype: int64"
      ]
     },
     "execution_count": 105,
     "metadata": {},
     "output_type": "execute_result"
    }
   ],
   "source": [
    "anime2.isnull().sum()"
   ]
  },
  {
   "cell_type": "code",
   "execution_count": 106,
   "id": "b5f806a4",
   "metadata": {},
   "outputs": [
    {
     "name": "stdout",
     "output_type": "stream",
     "text": [
      "<class 'pandas.core.frame.DataFrame'>\n",
      "Int64Index: 12064 entries, 0 to 12293\n",
      "Data columns (total 4 columns):\n",
      " #   Column    Non-Null Count  Dtype  \n",
      "---  ------    --------------  -----  \n",
      " 0   type      12064 non-null  object \n",
      " 1   episodes  12064 non-null  object \n",
      " 2   rating    12064 non-null  float64\n",
      " 3   members   12064 non-null  int64  \n",
      "dtypes: float64(1), int64(1), object(2)\n",
      "memory usage: 471.2+ KB\n"
     ]
    }
   ],
   "source": [
    "anime2.info()"
   ]
  },
  {
   "cell_type": "code",
   "execution_count": 108,
   "id": "fde4e4c8",
   "metadata": {},
   "outputs": [],
   "source": [
    "anime2['episodes'] = anime2['episodes'].replace('Unknown', 0)\n",
    "anime2['episodes'] = anime2['episodes'].astype(float)"
   ]
  },
  {
   "cell_type": "code",
   "execution_count": 88,
   "id": "5d7570d4",
   "metadata": {},
   "outputs": [],
   "source": [
    "type_n = anime2.type.groupby(anime2.type).count().index\n",
    "type_v = anime2.type.groupby(anime2.type).count().values"
   ]
  },
  {
   "cell_type": "code",
   "execution_count": 85,
   "id": "ce5dd288",
   "metadata": {},
   "outputs": [
    {
     "data": {
      "image/png": "[encoded data removed]",
      "text/plain": [
       "<Figure size 2000x1200 with 1 Axes>"
      ]
     },
     "metadata": {},
     "output_type": "display_data"
    }
   ],
   "source": [
    "colors = sns.color_palette('Set2')[0:10]\n",
    "plt.figure(figsize=(20, 12))\n",
    "plt.pie(type_v,\n",
    "        labels=type_n,\n",
    "        colors=colors,\n",
    "        autopct='%0.2f%%')\n",
    "plt.title('Distribution of anime type')\n",
    "plt.show()"
   ]
  },
  {
   "cell_type": "code",
   "execution_count": 110,
   "id": "0eaeb04f",
   "metadata": {},
   "outputs": [
    {
     "data": {
      "text/html": [
       "<div>\n",
       "<style scoped>\n",
       "    .dataframe tbody tr th:only-of-type {\n",
       "        vertical-align: middle;\n",
       "    }\n",
       "\n",
       "    .dataframe tbody tr th {\n",
       "        vertical-align: top;\n",
       "    }\n",
       "\n",
       "    .dataframe thead th {\n",
       "        text-align: right;\n",
       "    }\n",
       "</style>\n",
       "<table border=\"1\" class=\"dataframe\">\n",
       "  <thead>\n",
       "    <tr style=\"text-align: right;\">\n",
       "      <th></th>\n",
       "      <th>episodes</th>\n",
       "      <th>rating</th>\n",
       "      <th>members</th>\n",
       "    </tr>\n",
       "  </thead>\n",
       "  <tbody>\n",
       "    <tr>\n",
       "      <th>count</th>\n",
       "      <td>12064.000000</td>\n",
       "      <td>12064.000000</td>\n",
       "      <td>1.206400e+04</td>\n",
       "    </tr>\n",
       "    <tr>\n",
       "      <th>mean</th>\n",
       "      <td>12.253316</td>\n",
       "      <td>6.473902</td>\n",
       "      <td>1.827952e+04</td>\n",
       "    </tr>\n",
       "    <tr>\n",
       "      <th>std</th>\n",
       "      <td>46.668767</td>\n",
       "      <td>1.026746</td>\n",
       "      <td>5.527578e+04</td>\n",
       "    </tr>\n",
       "    <tr>\n",
       "      <th>min</th>\n",
       "      <td>0.000000</td>\n",
       "      <td>1.670000</td>\n",
       "      <td>1.200000e+01</td>\n",
       "    </tr>\n",
       "    <tr>\n",
       "      <th>25%</th>\n",
       "      <td>1.000000</td>\n",
       "      <td>5.880000</td>\n",
       "      <td>2.210000e+02</td>\n",
       "    </tr>\n",
       "    <tr>\n",
       "      <th>50%</th>\n",
       "      <td>2.000000</td>\n",
       "      <td>6.570000</td>\n",
       "      <td>1.539000e+03</td>\n",
       "    </tr>\n",
       "    <tr>\n",
       "      <th>75%</th>\n",
       "      <td>12.000000</td>\n",
       "      <td>7.180000</td>\n",
       "      <td>9.485500e+03</td>\n",
       "    </tr>\n",
       "    <tr>\n",
       "      <th>max</th>\n",
       "      <td>1818.000000</td>\n",
       "      <td>10.000000</td>\n",
       "      <td>1.013917e+06</td>\n",
       "    </tr>\n",
       "  </tbody>\n",
       "</table>\n",
       "</div>"
      ],
      "text/plain": [
       "           episodes        rating       members\n",
       "count  12064.000000  12064.000000  1.206400e+04\n",
       "mean      12.253316      6.473902  1.827952e+04\n",
       "std       46.668767      1.026746  5.527578e+04\n",
       "min        0.000000      1.670000  1.200000e+01\n",
       "25%        1.000000      5.880000  2.210000e+02\n",
       "50%        2.000000      6.570000  1.539000e+03\n",
       "75%       12.000000      7.180000  9.485500e+03\n",
       "max     1818.000000     10.000000  1.013917e+06"
      ]
     },
     "execution_count": 110,
     "metadata": {},
     "output_type": "execute_result"
    }
   ],
   "source": [
    "anime2.describe()"
   ]
  },
  {
   "cell_type": "code",
   "execution_count": 114,
   "id": "1766c065",
   "metadata": {},
   "outputs": [
    {
     "name": "stderr",
     "output_type": "stream",
     "text": [
      "D:\\Anaconda\\Documents\\lib\\site-packages\\seaborn\\_decorators.py:36: FutureWarning: Pass the following variable as a keyword arg: x. From version 0.12, the only valid positional argument will be `data`, and passing other arguments without an explicit keyword will result in an error or misinterpretation.\n",
      "  warnings.warn(\n"
     ]
    },
    {
     "data": {
      "text/plain": [
       "<AxesSubplot:title={'center':'Rating distribution'}, xlabel='rating'>"
      ]
     },
     "execution_count": 114,
     "metadata": {},
     "output_type": "execute_result"
    },
    {
     "data": {
      "image/png": "[encoded data removed]",
      "text/plain": [
       "<Figure size 640x480 with 1 Axes>"
      ]
     },
     "metadata": {},
     "output_type": "display_data"
    }
   ],
   "source": [
    "plt.title('Rating distribution')\n",
    "sns.boxplot(anime2.rating)"
   ]
  },
  {
   "cell_type": "code",
   "execution_count": 115,
   "id": "121f0266",
   "metadata": {},
   "outputs": [
    {
     "data": {
      "text/plain": [
       "TV         3671\n",
       "OVA        3285\n",
       "Movie      2297\n",
       "Special    1671\n",
       "ONA         652\n",
       "Music       488\n",
       "Name: type, dtype: int64"
      ]
     },
     "execution_count": 115,
     "metadata": {},
     "output_type": "execute_result"
    }
   ],
   "source": [
    "anime2.type.value_counts()"
   ]
  },
  {
   "cell_type": "code",
   "execution_count": 117,
   "id": "34538176",
   "metadata": {},
   "outputs": [],
   "source": [
    "anime2['type'] = anime2['type'].map(dict(anime2['type'].value_counts()))"
   ]
  },
  {
   "cell_type": "code",
   "execution_count": 118,
   "id": "0291779c",
   "metadata": {},
   "outputs": [
    {
     "name": "stdout",
     "output_type": "stream",
     "text": [
      "<class 'pandas.core.frame.DataFrame'>\n",
      "Int64Index: 12064 entries, 0 to 12293\n",
      "Data columns (total 4 columns):\n",
      " #   Column    Non-Null Count  Dtype  \n",
      "---  ------    --------------  -----  \n",
      " 0   type      12064 non-null  int64  \n",
      " 1   episodes  12064 non-null  float64\n",
      " 2   rating    12064 non-null  float64\n",
      " 3   members   12064 non-null  int64  \n",
      "dtypes: float64(2), int64(2)\n",
      "memory usage: 471.2 KB\n"
     ]
    }
   ],
   "source": [
    "anime2.info()"
   ]
  },
  {
   "cell_type": "code",
   "execution_count": 119,
   "id": "d1157f88",
   "metadata": {},
   "outputs": [],
   "source": [
    "from sklearn.cluster import AgglomerativeClustering, KMeans\n",
    "from sklearn.decomposition import PCA\n",
    "from scipy.cluster.hierarchy import dendrogram"
   ]
  },
  {
   "cell_type": "code",
   "execution_count": 120,
   "id": "40836b9d",
   "metadata": {},
   "outputs": [],
   "source": [
    "def plot_dendrogram(model, **kwargs):\n",
    "    # Create linkage matrix and then plot the dendrogram\n",
    "\n",
    "    # create the counts of samples under each node\n",
    "    counts = np.zeros(model.children_.shape[0])\n",
    "    n_samples = len(model.labels_)\n",
    "    for i, merge in enumerate(model.children_):\n",
    "        current_count = 0\n",
    "        for child_idx in merge:\n",
    "            if child_idx < n_samples:\n",
    "                current_count += 1  # leaf node\n",
    "            else:\n",
    "                current_count += counts[child_idx - n_samples]\n",
    "        counts[i] = current_count\n",
    "\n",
    "    linkage_matrix = np.column_stack(\n",
    "        [model.children_, model.distances_, counts]\n",
    "    ).astype(float)\n",
    "\n",
    "    # Plot the corresponding dendrogram\n",
    "    dendrogram(linkage_matrix, **kwargs)"
   ]
  },
  {
   "cell_type": "code",
   "execution_count": 122,
   "id": "5e7c1d8f",
   "metadata": {},
   "outputs": [
    {
     "data": {
      "image/png": "[encoded data removed]",
      "text/plain": [
       "<Figure size 2000x1800 with 1 Axes>"
      ]
     },
     "metadata": {},
     "output_type": "display_data"
    }
   ],
   "source": [
    "clustering = AgglomerativeClustering(distance_threshold=0, n_clusters=None).fit(anime2) # to find the number of cluster\n",
    "\n",
    "plt.figure(figsize=(20, 18))\n",
    "plot_dendrogram(clustering)\n",
    "plt.title(\"Anime Hierarchical Clustering Dendrogram\")\n",
    "plt.xlabel(\"Number of points in node\")\n",
    "plt.show()"
   ]
  },
  {
   "cell_type": "code",
   "execution_count": null,
   "id": "939ac664",
   "metadata": {},
   "outputs": [],
   "source": []
  }
 ],
 "metadata": {
  "kernelspec": {
   "display_name": "Python 3 (ipykernel)",
   "language": "python",
   "name": "python3"
  },
  "language_info": {
   "codemirror_mode": {
    "name": "ipython",
    "version": 3
   },
   "file_extension": ".py",
   "mimetype": "text/x-python",
   "name": "python",
   "nbconvert_exporter": "python",
   "pygments_lexer": "ipython3",
   "version": "3.9.13"
  }
 },
 "nbformat": 4,
 "nbformat_minor": 5
}
